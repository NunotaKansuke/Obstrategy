{
 "cells": [
  {
   "cell_type": "code",
   "execution_count": 4,
   "metadata": {},
   "outputs": [],
   "source": [
    "import requests\n",
    "import numpy as np\n",
    "from astropy.time import Time\n",
    "from astropy.coordinates import EarthLocation\n",
    "import astropy.units as u\n",
    "from astroplan import Observer\n",
    "import time\n",
    "from astropy.coordinates import AltAz, SkyCoord\n",
    "import re\n",
    "from astroplan.plots import plot_sky\n",
    "import matplotlib.pyplot as plt\n",
    "from datetime import datetime, timedelta\n",
    "from matplotlib.dates import HourLocator, MinuteLocator, DateFormatter\n",
    "import pytz\n",
    "aflica = pytz.timezone('Africa/Johannesburg')"
   ]
  },
  {
   "cell_type": "code",
   "execution_count": 5,
   "metadata": {},
   "outputs": [],
   "source": [
    "def time2degrees(times):\n",
    "    return times[0] * 360/24 + times[1] * 360/24/60 + times[2] * 360/24/60/60\n",
    "\n",
    "def dms2degrees(dms):\n",
    "    return dms[0] + (dms[1] / 60) + (dms[2] / 60/60)\n",
    "\n",
    "def str2float(string):\n",
    "    num  = string.split(\":\")\n",
    "    num = [float(n) for n in num]\n",
    "    if num[0]<0:\n",
    "        num[1],num[2] = -num[1], -num[2] \n",
    "    return tuple(num)"
   ]
  },
  {
   "cell_type": "code",
   "execution_count": 8,
   "metadata": {},
   "outputs": [],
   "source": [
    "class Obstrategy():\n",
    "    def __init__(self,path):\n",
    "        gb_field_path = \"./data//PRIME_LB_20230719_nunota.dat\"\n",
    "        self.gb_field = np.genfromtxt(gb_field_path,names=[\"name\",\"ra\",\"dec\",\"l\",\"b\",\"type\"],\n",
    "                                        dtype=[(\"num\", int), (\"ra\", float), (\"dec\", float), (\"l\", float), (\"b\", float), (\"type\", int)])\n",
    "        \n",
    "        self.list = np.genfromtxt(path,usecols=[0,1,2],names=[\"name\",\"ra\",\"dec\"],dtype=[(\"num\", int), (\"ra\", str), (\"dec\", str)])"
   ]
  },
  {
   "cell_type": "code",
   "execution_count": 4,
   "metadata": {},
   "outputs": [
    {
     "ename": "NameError",
     "evalue": "name 'field_path' is not defined",
     "output_type": "error",
     "traceback": [
      "\u001b[0;31m---------------------------------------------------------------------------\u001b[0m",
      "\u001b[0;31mNameError\u001b[0m                                 Traceback (most recent call last)",
      "\u001b[0;32m/var/folders/sw/_7n6g3k12p33btx4qj_58m3c0000gn/T/ipykernel_12425/1296310758.py\u001b[0m in \u001b[0;36m<module>\u001b[0;34m\u001b[0m\n\u001b[0;32m----> 1\u001b[0;31m \u001b[0mtmp\u001b[0m \u001b[0;34m=\u001b[0m \u001b[0mObstrategy\u001b[0m\u001b[0;34m(\u001b[0m\u001b[0;34m\"./data/test_list.dat\"\u001b[0m\u001b[0;34m)\u001b[0m\u001b[0;34m\u001b[0m\u001b[0;34m\u001b[0m\u001b[0m\n\u001b[0m",
      "\u001b[0;32m/var/folders/sw/_7n6g3k12p33btx4qj_58m3c0000gn/T/ipykernel_12425/2549776487.py\u001b[0m in \u001b[0;36m__init__\u001b[0;34m(self, path)\u001b[0m\n\u001b[1;32m      2\u001b[0m     \u001b[0;32mdef\u001b[0m \u001b[0m__init__\u001b[0m\u001b[0;34m(\u001b[0m\u001b[0mself\u001b[0m\u001b[0;34m,\u001b[0m\u001b[0mpath\u001b[0m\u001b[0;34m)\u001b[0m\u001b[0;34m:\u001b[0m\u001b[0;34m\u001b[0m\u001b[0;34m\u001b[0m\u001b[0m\n\u001b[1;32m      3\u001b[0m         \u001b[0mgb_field_path\u001b[0m \u001b[0;34m=\u001b[0m \u001b[0;34m\"./data//PRIME_LB_20230719_nunota.dat\"\u001b[0m\u001b[0;34m\u001b[0m\u001b[0;34m\u001b[0m\u001b[0m\n\u001b[0;32m----> 4\u001b[0;31m         self.gb_field = np.genfromtxt(field_path,names=[\"num\",\"ra\",\"dec\",\"l\",\"b\",\"type\"],\n\u001b[0m\u001b[1;32m      5\u001b[0m                                         dtype=[(\"num\", int), (\"ra\", float), (\"dec\", float), (\"l\", float), (\"b\", float), (\"type\", int)])\n\u001b[1;32m      6\u001b[0m \u001b[0;34m\u001b[0m\u001b[0m\n",
      "\u001b[0;31mNameError\u001b[0m: name 'field_path' is not defined"
     ]
    }
   ],
   "source": [
    "tmp = Obstrategy(\"./data/\")"
   ]
  },
  {
   "cell_type": "code",
   "execution_count": null,
   "metadata": {},
   "outputs": [],
   "source": []
  }
 ],
 "metadata": {
  "kernelspec": {
   "display_name": "Python 3 (ipykernel)",
   "language": "python",
   "name": "python3"
  },
  "language_info": {
   "codemirror_mode": {
    "name": "ipython",
    "version": 3
   },
   "file_extension": ".py",
   "mimetype": "text/x-python",
   "name": "python",
   "nbconvert_exporter": "python",
   "pygments_lexer": "ipython3",
   "version": "3.9.13"
  }
 },
 "nbformat": 4,
 "nbformat_minor": 2
}
