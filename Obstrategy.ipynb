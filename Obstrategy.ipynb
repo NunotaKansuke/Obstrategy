{
 "cells": [
  {
   "cell_type": "code",
   "execution_count": 1,
   "metadata": {},
   "outputs": [],
   "source": [
    "import requests\n",
    "import numpy as np\n",
    "from astropy.time import Time\n",
    "from astropy.coordinates import EarthLocation\n",
    "import astropy.units as u\n",
    "from astroplan import Observer\n",
    "import time\n",
    "from astropy.coordinates import AltAz, SkyCoord\n",
    "import re\n",
    "from astroplan.plots import plot_sky\n",
    "import matplotlib.pyplot as plt\n",
    "from datetime import datetime, timedelta\n",
    "from matplotlib.dates import HourLocator, MinuteLocator, DateFormatter\n",
    "import pytz\n",
    "aflica = pytz.timezone('Africa/Johannesburg')"
   ]
  },
  {
   "cell_type": "code",
   "execution_count": 2,
   "metadata": {},
   "outputs": [],
   "source": [
    "def time2degrees(times):\n",
    "    return times[0] * 360/24 + times[1] * 360/24/60 + times[2] * 360/24/60/60\n",
    "\n",
    "def dms2degrees(dms):\n",
    "    return dms[0] + (dms[1] / 60) + (dms[2] / 60/60)\n",
    "\n",
    "def str2float(string):\n",
    "    num  = string.split(\":\")\n",
    "    num = [float(n) for n in num]\n",
    "    if num[0]<0:\n",
    "        num[1],num[2] = -num[1], -num[2] \n",
    "    return tuple(num)"
   ]
  },
  {
   "cell_type": "code",
   "execution_count": null,
   "metadata": {},
   "outputs": [],
   "source": [
    "class Obstrategy():\n",
    "    def __init__(self):\n",
    "        field_path = \"./data//PRIME_LB_20230719_nunota.dat\"\n",
    "        self.gb_field = np.genfromtxt(field_path,names=[\"num\",\"ra\",\"dec\",\"l\",\"b\",\"type\"],\n",
    "                                        dtype=[(\"num\", int), (\"ra\", float), (\"dec\", float), (\"l\", float), (\"b\", float), (\"type\", int)])\n",
    "        "
   ]
  }
 ],
 "metadata": {
  "kernelspec": {
   "display_name": "Python 3 (ipykernel)",
   "language": "python",
   "name": "python3"
  },
  "language_info": {
   "codemirror_mode": {
    "name": "ipython",
    "version": 3
   },
   "file_extension": ".py",
   "mimetype": "text/x-python",
   "name": "python",
   "nbconvert_exporter": "python",
   "pygments_lexer": "ipython3",
   "version": "3.9.13"
  }
 },
 "nbformat": 4,
 "nbformat_minor": 2
}
